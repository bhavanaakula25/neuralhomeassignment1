{
 "cells": [
  {
   "cell_type": "code",
   "execution_count": 2,
   "id": "1e2a1b63-26eb-4a0a-b2be-c141b0b0ebbc",
   "metadata": {},
   "outputs": [
    {
     "name": "stdout",
     "output_type": "stream",
     "text": [
      "Original Tensor:\n",
      " tf.Tensor(\n",
      "[[0.6558249  0.16685069 0.6417681  0.27634907 0.5213963  0.23992395]\n",
      " [0.5573199  0.70635104 0.5286797  0.38130927 0.74237347 0.837981  ]\n",
      " [0.2563219  0.20957923 0.3909874  0.27152812 0.18580806 0.64993167]\n",
      " [0.38932788 0.24519837 0.45843804 0.10600007 0.10215783 0.58030844]], shape=(4, 6), dtype=float32)\n",
      "Rank: 2\n",
      "Shape: [4 6]\n",
      "\n",
      "Reshaped Tensor (2, 3, 4):\n",
      " tf.Tensor(\n",
      "[[[0.6558249  0.16685069 0.6417681  0.27634907]\n",
      "  [0.5213963  0.23992395 0.5573199  0.70635104]\n",
      "  [0.5286797  0.38130927 0.74237347 0.837981  ]]\n",
      "\n",
      " [[0.2563219  0.20957923 0.3909874  0.27152812]\n",
      "  [0.18580806 0.64993167 0.38932788 0.24519837]\n",
      "  [0.45843804 0.10600007 0.10215783 0.58030844]]], shape=(2, 3, 4), dtype=float32)\n",
      "\n",
      "Transposed Tensor (3, 2, 4):\n",
      " tf.Tensor(\n",
      "[[[0.6558249  0.16685069 0.6417681  0.27634907]\n",
      "  [0.2563219  0.20957923 0.3909874  0.27152812]]\n",
      "\n",
      " [[0.5213963  0.23992395 0.5573199  0.70635104]\n",
      "  [0.18580806 0.64993167 0.38932788 0.24519837]]\n",
      "\n",
      " [[0.5286797  0.38130927 0.74237347 0.837981  ]\n",
      "  [0.45843804 0.10600007 0.10215783 0.58030844]]], shape=(3, 2, 4), dtype=float32)\n",
      "\n",
      "Broadcasted Tensor (3, 2, 4):\n",
      " tf.Tensor(\n",
      "[[[1. 2. 3. 4.]\n",
      "  [1. 2. 3. 4.]]\n",
      "\n",
      " [[1. 2. 3. 4.]\n",
      "  [1. 2. 3. 4.]]\n",
      "\n",
      " [[1. 2. 3. 4.]\n",
      "  [1. 2. 3. 4.]]], shape=(3, 2, 4), dtype=float32)\n",
      "\n",
      "Result of Addition:\n",
      " tf.Tensor(\n",
      "[[[1.6558249 2.1668506 3.641768  4.276349 ]\n",
      "  [1.2563219 2.2095792 3.3909874 4.2715282]]\n",
      "\n",
      " [[1.5213963 2.239924  3.5573199 4.7063513]\n",
      "  [1.1858081 2.6499317 3.389328  4.2451982]]\n",
      "\n",
      " [[1.5286797 2.3813093 3.7423735 4.837981 ]\n",
      "  [1.458438  2.106     3.1021578 4.5803084]]], shape=(3, 2, 4), dtype=float32)\n"
     ]
    }
   ],
   "source": [
    "import tensorflow as tf\n",
    "\n",
    "# Create a random tensor of shape (4, 6)\n",
    "tensor = tf.random.uniform(shape=(4, 6))\n",
    "print(\"Original Tensor:\\n\", tensor)\n",
    "\n",
    "# Rank and shape\n",
    "rank = tf.rank(tensor)\n",
    "shape = tf.shape(tensor)\n",
    "print(\"Rank:\", rank.numpy())\n",
    "print(\"Shape:\", shape.numpy())\n",
    "\n",
    "# Reshape to (2, 3, 4)\n",
    "reshaped_tensor = tf.reshape(tensor, (2, 3, 4))\n",
    "print(\"\\nReshaped Tensor (2, 3, 4):\\n\", reshaped_tensor)\n",
    "\n",
    "# Transpose to (3, 2, 4)\n",
    "transposed_tensor = tf.transpose(reshaped_tensor, perm=[1, 0, 2])\n",
    "print(\"\\nTransposed Tensor (3, 2, 4):\\n\", transposed_tensor)\n",
    "\n",
    "# Broadcasting a smaller tensor (1, 4) to match (3, 2, 4)\n",
    "small_tensor = tf.constant([[1.0, 2.0, 3.0, 4.0]])\n",
    "broadcasted_tensor = tf.broadcast_to(small_tensor, [3, 2, 4])\n",
    "print(\"\\nBroadcasted Tensor (3, 2, 4):\\n\", broadcasted_tensor)\n",
    "\n",
    "# Add tensors\n",
    "result = transposed_tensor + broadcasted_tensor\n",
    "print(\"\\nResult of Addition:\\n\", result)\n"
   ]
  },
  {
   "cell_type": "code",
   "execution_count": null,
   "id": "451bd329-9c18-4ce2-a99a-b9012635ee3e",
   "metadata": {},
   "outputs": [],
   "source": []
  },
  {
   "cell_type": "code",
   "execution_count": null,
   "id": "dbeed75b-b55e-4a00-a016-49b285e55250",
   "metadata": {},
   "outputs": [],
   "source": []
  },
  {
   "cell_type": "code",
   "execution_count": 5,
   "id": "9aa9b926-b677-4ba5-8dac-092b33fec659",
   "metadata": {},
   "outputs": [
    {
     "name": "stdout",
     "output_type": "stream",
     "text": [
      "Loss values for prediction 1 - MSE: 0.04666667 CCE: 0.35667497\n",
      "Loss values for prediction 2 - MSE: 0.011666666 CCE: 0.1625189\n"
     ]
    },
    {
     "data": {
      "image/png": "[encoded data removed]",
      "text/plain": [
       "<Figure size 640x480 with 1 Axes>"
      ]
     },
     "metadata": {},
     "output_type": "display_data"
    }
   ],
   "source": [
    "import numpy as np\n",
    "import matplotlib.pyplot as plt\n",
    "from tensorflow.keras.losses import MeanSquaredError, CategoricalCrossentropy\n",
    "\n",
    "# Define true and predicted values\n",
    "y_true = np.array([[0, 1, 0]])\n",
    "y_pred1 = np.array([[0.2, 0.7, 0.1]])\n",
    "y_pred2 = np.array([[0.1, 0.85, 0.05]])\n",
    "\n",
    "# Initialize loss functions\n",
    "mse = MeanSquaredError()\n",
    "cce = CategoricalCrossentropy()\n",
    "\n",
    "# Compute loss values\n",
    "mse1 = mse(y_true, y_pred1).numpy()\n",
    "cce1 = cce(y_true, y_pred1).numpy()\n",
    "\n",
    "mse2 = mse(y_true, y_pred2).numpy()\n",
    "cce2 = cce(y_true, y_pred2).numpy()\n",
    "\n",
    "print(\"Loss values for prediction 1 - MSE:\", mse1, \"CCE:\", cce1)\n",
    "print(\"Loss values for prediction 2 - MSE:\", mse2, \"CCE:\", cce2)\n",
    "\n",
    "# Plot\n",
    "labels = ['Prediction 1', 'Prediction 2']\n",
    "mse_values = [mse1, mse2]\n",
    "cce_values = [cce1, cce2]\n",
    "\n",
    "x = np.arange(len(labels))\n",
    "width = 0.35\n",
    "\n",
    "fig, ax = plt.subplots()\n",
    "ax.bar(x - width/2, mse_values, width, label='MSE')\n",
    "ax.bar(x + width/2, cce_values, width, label='CCE')\n",
    "\n",
    "ax.set_ylabel('Loss Value')\n",
    "ax.set_title('Loss Comparison (MSE vs CCE)')\n",
    "ax.set_xticks(x)\n",
    "ax.set_xticklabels(labels)\n",
    "ax.legend()\n",
    "\n",
    "plt.tight_layout()\n",
    "plt.show()\n"
   ]
  },
  {
   "cell_type": "code",
   "execution_count": 7,
   "id": "e01aa1f2-2804-4eb4-8f59-73b3bbf8286e",
   "metadata": {},
   "outputs": [
    {
     "name": "stdout",
     "output_type": "stream",
     "text": [
      "Downloading data from https://storage.googleapis.com/tensorflow/tf-keras-datasets/mnist.npz\n",
      "\u001b[1m11490434/11490434\u001b[0m \u001b[32m━━━━━━━━━━━━━━━━━━━━\u001b[0m\u001b[37m\u001b[0m \u001b[1m1s\u001b[0m 0us/step\n"
     ]
    },
    {
     "name": "stderr",
     "output_type": "stream",
     "text": [
      "C:\\Users\\91944\\anaconda3\\Lib\\site-packages\\keras\\src\\layers\\reshaping\\flatten.py:37: UserWarning: Do not pass an `input_shape`/`input_dim` argument to a layer. When using Sequential models, prefer using an `Input(shape)` object as the first layer in the model instead.\n",
      "  super().__init__(**kwargs)\n"
     ]
    },
    {
     "name": "stdout",
     "output_type": "stream",
     "text": [
      "Epoch 1/5\n",
      "\u001b[1m1875/1875\u001b[0m \u001b[32m━━━━━━━━━━━━━━━━━━━━\u001b[0m\u001b[37m\u001b[0m \u001b[1m12s\u001b[0m 5ms/step - accuracy: 0.8750 - loss: 0.4338 - val_accuracy: 0.9604 - val_loss: 0.1340\n",
      "Epoch 2/5\n",
      "\u001b[1m1875/1875\u001b[0m \u001b[32m━━━━━━━━━━━━━━━━━━━━\u001b[0m\u001b[37m\u001b[0m \u001b[1m9s\u001b[0m 5ms/step - accuracy: 0.9653 - loss: 0.1173 - val_accuracy: 0.9718 - val_loss: 0.0948\n",
      "Epoch 3/5\n",
      "\u001b[1m1875/1875\u001b[0m \u001b[32m━━━━━━━━━━━━━━━━━━━━\u001b[0m\u001b[37m\u001b[0m \u001b[1m10s\u001b[0m 5ms/step - accuracy: 0.9761 - loss: 0.0776 - val_accuracy: 0.9702 - val_loss: 0.0933\n",
      "Epoch 4/5\n",
      "\u001b[1m1875/1875\u001b[0m \u001b[32m━━━━━━━━━━━━━━━━━━━━\u001b[0m\u001b[37m\u001b[0m \u001b[1m11s\u001b[0m 5ms/step - accuracy: 0.9830 - loss: 0.0593 - val_accuracy: 0.9742 - val_loss: 0.0842\n",
      "Epoch 5/5\n",
      "\u001b[1m1875/1875\u001b[0m \u001b[32m━━━━━━━━━━━━━━━━━━━━\u001b[0m\u001b[37m\u001b[0m \u001b[1m8s\u001b[0m 4ms/step - accuracy: 0.9861 - loss: 0.0454 - val_accuracy: 0.9772 - val_loss: 0.0765\n"
     ]
    },
    {
     "data": {
      "text/plain": [
       "<keras.src.callbacks.history.History at 0x2c02727f230>"
      ]
     },
     "execution_count": 7,
     "metadata": {},
     "output_type": "execute_result"
    }
   ],
   "source": [
    "import tensorflow as tf\n",
    "from tensorflow.keras import layers, models\n",
    "import datetime\n",
    "\n",
    "# Load and preprocess MNIST\n",
    "(x_train, y_train), (x_test, y_test) = tf.keras.datasets.mnist.load_data()\n",
    "x_train = x_train / 255.0\n",
    "x_test = x_test / 255.0\n",
    "\n",
    "# Build model\n",
    "model = models.Sequential([\n",
    "    layers.Flatten(input_shape=(28, 28)),\n",
    "    layers.Dense(128, activation='relu'),\n",
    "    layers.Dense(10, activation='softmax')\n",
    "])\n",
    "\n",
    "# Compile model\n",
    "model.compile(optimizer='adam',\n",
    "              loss='sparse_categorical_crossentropy',\n",
    "              metrics=['accuracy'])\n",
    "\n",
    "# TensorBoard logging\n",
    "log_dir = \"logs/fit/\" + datetime.datetime.now().strftime(\"%Y%m%d-%H%M%S\")\n",
    "tensorboard_callback = tf.keras.callbacks.TensorBoard(log_dir=log_dir, histogram_freq=1)\n",
    "\n",
    "# Train\n",
    "model.fit(x_train, y_train,\n",
    "          epochs=5,\n",
    "          validation_data=(x_test, y_test),\n",
    "          callbacks=[tensorboard_callback])\n"
   ]
  },
  {
   "cell_type": "code",
   "execution_count": null,
   "id": "578e59b8-2b36-414e-ae78-6f4648ddad7a",
   "metadata": {},
   "outputs": [],
   "source": []
  },
  {
   "cell_type": "code",
   "execution_count": null,
   "id": "b7e7bd64-b65b-4648-9bfd-b6b0dc99824b",
   "metadata": {},
   "outputs": [],
   "source": []
  }
 ],
 "metadata": {
  "kernelspec": {
   "display_name": "Python 3 (ipykernel)",
   "language": "python",
   "name": "python3"
  },
  "language_info": {
   "codemirror_mode": {
    "name": "ipython",
    "version": 3
   },
   "file_extension": ".py",
   "mimetype": "text/x-python",
   "name": "python",
   "nbconvert_exporter": "python",
   "pygments_lexer": "ipython3",
   "version": "3.12.7"
  }
 },
 "nbformat": 4,
 "nbformat_minor": 5
}
